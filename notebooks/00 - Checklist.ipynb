{
 "metadata": {
  "name": "",
  "signature": "sha256:81f4409b4f86295fa3d26453fa20ef3274aa3be1d3168814f625f3275cb6d939"
 },
 "nbformat": 3,
 "nbformat_minor": 0,
 "worksheets": [
  {
   "cells": [
    {
     "cell_type": "code",
     "collapsed": false,
     "input": [
      "%%javascript\n",
      "\n",
      "window.load_remote_theme = false\n",
      "var theme_url = \"https://drostehk.github.io/ipynb-theme/\";\n",
      "var asset_url = 'https://raw.githubusercontent.com/tijptjik/DS_assets/master/';\n",
      "\n",
      "window.load_local_theme = function(){\n",
      "    var hostname = document.location.hostname\n",
      "    return ((hostname == \"localhost\" || hostname == '127.0.0.1') && !load_remote_theme)\n",
      "}\n",
      "\n",
      "var url = load_local_theme() ? document.location.origin + \"/files/theme/custom.js\" : theme_url + 'custom.js'\n",
      "\n",
      "$.getScript(url)"
     ],
     "language": "python",
     "metadata": {},
     "outputs": [
      {
       "javascript": [
        "\n",
        "window.load_remote_theme = false\n",
        "var theme_url = \"https://drostehk.github.io/ipynb-theme/\";\n",
        "var asset_url = 'https://raw.githubusercontent.com/tijptjik/DS_assets/master/';\n",
        "\n",
        "window.load_local_theme = function(){\n",
        "    var hostname = document.location.hostname\n",
        "    return ((hostname == \"localhost\" || hostname == '127.0.0.1') && !load_remote_theme)\n",
        "}\n",
        "\n",
        "var url = load_local_theme() ? document.location.origin + \"/files/theme/custom.js\" : theme_url + 'custom.js'\n",
        "\n",
        "$.getScript(url)"
       ],
       "metadata": {},
       "output_type": "display_data",
       "text": [
        "<IPython.core.display.Javascript at 0x7f89a11fb450>"
       ]
      }
     ],
     "prompt_number": 1
    },
    {
     "cell_type": "heading",
     "level": 1,
     "metadata": {},
     "source": [
      "Data Science Welcome"
     ]
    },
    {
     "cell_type": "heading",
     "level": 2,
     "metadata": {},
     "source": [
      "Course Structure"
     ]
    },
    {
     "cell_type": "heading",
     "level": 3,
     "metadata": {},
     "source": [
      "Course Objectives"
     ]
    },
    {
     "cell_type": "markdown",
     "metadata": {},
     "source": [
      "* Insight in how to understand and read data\n",
      "* Gain techniques for manipulating data\n",
      "* Learn machine learning algorithms commonly used in practice\n",
      "* Build a Data Science project\n",
      "\n",
      "**Lots and lots of practice!**"
     ]
    },
    {
     "cell_type": "heading",
     "level": 3,
     "metadata": {},
     "source": [
      "Course Schedule"
     ]
    },
    {
     "cell_type": "markdown",
     "metadata": {},
     "source": [
      "```bash\n",
      "------------ INTRODUCTION ------------\n",
      "01 - Data Science Toolkit\n",
      "02 - Linear Algebra\n",
      "03 - Machine Learning\n",
      "04 - Exploratory Data Analysis\n",
      "------------ ESTIMATION ------------\n",
      "05 - Linear Regression\n",
      "06 - Polynomial Regression\n",
      "07 - Data Wrangling \n",
      "08 - Intro to R\n",
      "09 - Group Presentations\n",
      "------------ MACHINE LEARNING ------------\n",
      "10 - Logistic Regression\n",
      "11 - kNN \n",
      "12 - Decision Trees\n",
      "13 - Random Forests\n",
      "14 - Network Analysis\n",
      "15 - Feature Engineering I (PCA)\n",
      "16 - Feature Engineering II (Clustering)\n",
      "------------ REAL WORLD APPLICATIONS ------------\n",
      "17 - Kaggle I (EDA)\n",
      "18 - Kaggle II (Feature Engineering)\n",
      "19 - Big Data I (MapReduce)\n",
      "20 - Big Data II (Spark)\n",
      "21 - Project Labs\n",
      "22 - Final Presentations\n",
      "```"
     ]
    },
    {
     "cell_type": "heading",
     "level": 3,
     "metadata": {},
     "source": [
      "Lesson Materials"
     ]
    },
    {
     "cell_type": "markdown",
     "metadata": {},
     "source": [
      "Distributed as **iPython Notebooks**\n",
      "\n",
      "Generally lesson materials will follow these guidelines:\n",
      "* Cover theory in the first half\n",
      "* List materials and references for further reading\n",
      "* Code demos which implement the theory\n",
      "* Assigned Homework excercises to check understanding "
     ]
    },
    {
     "cell_type": "markdown",
     "metadata": {},
     "source": [
      "Materials are available from [GitHub](https://github.com/ga-students/DS_HK_5/archive/gh-pages.zip)"
     ]
    },
    {
     "cell_type": "heading",
     "level": 2,
     "metadata": {},
     "source": [
      "Projects"
     ]
    },
    {
     "cell_type": "heading",
     "level": 3,
     "metadata": {},
     "source": [
      "Group Project"
     ]
    },
    {
     "cell_type": "markdown",
     "metadata": {},
     "source": [
      "**Deliverable**: Presentation to class, _due week 5_.\n",
      "\n",
      "* Estimation problem (regression)\n",
      "* 4 Topics are provided with datasets - but check with us if you have a dataset you wish to use for this project.\n",
      "* In Teams of Two\n",
      "* Inform **Dickson** of your chosen pair by _week 3_, lest you be assigned a partner.\n",
      "\n"
     ]
    },
    {
     "cell_type": "heading",
     "level": 3,
     "metadata": {},
     "source": [
      "Final Project"
     ]
    },
    {
     "cell_type": "markdown",
     "metadata": {},
     "source": [
      "**Deliverable**: Presentation to class and panel who will assess you on both the techical qualities of your project, as well as your ability to communicate its results, _due week 11_.\n",
      "\n",
      "For your final project, you will create a predictive model by doing the following:\n",
      "\n",
      "1. Acquire a real-world data set \n",
      "2. Form a hypothesis about it\n",
      "3. Clean it \n",
      "4. Parse it \n",
      "5. Apply modeling techniques and data analysis principles\n",
      "6. Your final presentation should include the following: \n",
      "\n",
      "    * A clearly articulated problem statement \n",
      "    * A summary of data acquisition, cleaning, and parsing stage \n",
      "    * Qualitative and quantitative market research \n",
      "    * A clear presentation of your predictive model and the processes you took to create it (10-15 minutes)\n",
      "    * Presentation style appropriate to the audience "
     ]
    },
    {
     "cell_type": "heading",
     "level": 2,
     "metadata": {},
     "source": [
      "Checklist"
     ]
    },
    {
     "cell_type": "markdown",
     "metadata": {},
     "source": [
      "Let's check these items off our list."
     ]
    },
    {
     "cell_type": "heading",
     "level": 3,
     "metadata": {},
     "source": [
      "Install a Text Editor"
     ]
    },
    {
     "cell_type": "markdown",
     "metadata": {},
     "source": [
      "[Install SublimeText](http://www.sublimetext.com/3)"
     ]
    },
    {
     "cell_type": "heading",
     "level": 3,
     "metadata": {},
     "source": [
      "All Systems Go?"
     ]
    },
    {
     "cell_type": "markdown",
     "metadata": {},
     "source": [
      "Confirm sym-link between `/vagrant/` and `/home/vagrant/ds/`"
     ]
    },
    {
     "cell_type": "heading",
     "level": 3,
     "metadata": {},
     "source": [
      "Download the Course Files"
     ]
    },
    {
     "cell_type": "markdown",
     "metadata": {},
     "source": [
      "The class materials are available as 'read-only' notebooks, at \n",
      "\n",
      "**[ga-students.github.io/DS_HK_5/](http://ga-students.github.io/DS_HK_5/)**\n",
      "\n",
      "However, in order to run python interactively, or to add your own notes to the materials, you'll need to download and serve the notebooks locally - that means, from your own laptop instead of hosted as an online website."
     ]
    },
    {
     "cell_type": "markdown",
     "metadata": {},
     "source": [
      "Files are posted on [Github](https://github.com/ga-students/DS_HK_5), you can either\n",
      "\n",
      "* Use `git` if you are already familiar with it\n",
      "* Click the [Download Zip Buttom](https://github.com/ga-students/DS_HK_5/archive/gh-pages.zip)\n",
      "\n",
      "Once you have the files locally, put the directory (`DS_HK_5`) into `~/DataScience/ds`"
     ]
    },
    {
     "cell_type": "heading",
     "level": 3,
     "metadata": {},
     "source": [
      "Make the local notebook available on your VM"
     ]
    },
    {
     "cell_type": "markdown",
     "metadata": {},
     "source": [
      "1. In `/home/vagrant/`,\n",
      "```bash\n",
      "rm notebooks\n",
      "```\n",
      "2. Symlink the notebooks directory on `/home/vagrant/`, \n",
      "```bash\n",
      "ln -s ~/ds/DS_HK_5/notebooks notebooks\n",
      "```"
     ]
    },
    {
     "cell_type": "heading",
     "level": 3,
     "metadata": {},
     "source": [
      "Give a Gist "
     ]
    },
    {
     "cell_type": "markdown",
     "metadata": {},
     "source": [
      "Send us your homework as a `gist` through [gist.github.com](https://gist.github.com/)"
     ]
    }
   ],
   "metadata": {}
  }
 ]
}
